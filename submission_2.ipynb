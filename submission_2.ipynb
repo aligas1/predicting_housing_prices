{
 "cells": [
  {
   "cell_type": "code",
   "execution_count": null,
   "metadata": {},
   "outputs": [],
   "source": [
    "import pandas as pd\n",
    "import numpy as np\n",
    "import seaborn as sns\n",
    "import matplotlib.pyplot as plt\n",
    "import statsmodels.api as sm\n",
    "\n",
    "from sklearn import metrics\n",
    "from sklearn.linear_model import LinearRegression\n",
    "from sklearn.model_selection import train_test_split, cross_val_score\n",
    "from sklearn.preprocessing import StandardScaler, PolynomialFeatures\n",
    "\n",
    "%matplotlib inline"
   ]
  },
  {
   "cell_type": "code",
   "execution_count": null,
   "metadata": {},
   "outputs": [],
   "source": [
    "train = pd.read_csv('./datasets/train_clean2.csv')"
   ]
  },
  {
   "cell_type": "code",
   "execution_count": null,
   "metadata": {},
   "outputs": [],
   "source": [
    "test = pd.read_csv('./datasets/test_clean2.csv')"
   ]
  },
  {
   "cell_type": "code",
   "execution_count": null,
   "metadata": {},
   "outputs": [],
   "source": [
    "train.isnull().sum().sum()"
   ]
  },
  {
   "cell_type": "code",
   "execution_count": null,
   "metadata": {},
   "outputs": [],
   "source": [
    "test.isnull().sum().sum()"
   ]
  },
  {
   "cell_type": "code",
   "execution_count": null,
   "metadata": {},
   "outputs": [],
   "source": [
    "train.drop(columns=['Unnamed: 0'], inplace=True)"
   ]
  },
  {
   "cell_type": "code",
   "execution_count": null,
   "metadata": {},
   "outputs": [],
   "source": [
    "test.drop(columns=['Unnamed: 0'], inplace=True)"
   ]
  },
  {
   "cell_type": "code",
   "execution_count": null,
   "metadata": {},
   "outputs": [],
   "source": []
  },
  {
   "cell_type": "code",
   "execution_count": null,
   "metadata": {},
   "outputs": [],
   "source": [
    "numeric_train = list(train._get_numeric_data().columns)"
   ]
  },
  {
   "cell_type": "code",
   "execution_count": null,
   "metadata": {},
   "outputs": [],
   "source": [
    "numeric_test = list(test._get_numeric_data().columns)"
   ]
  },
  {
   "cell_type": "code",
   "execution_count": null,
   "metadata": {},
   "outputs": [],
   "source": []
  },
  {
   "cell_type": "code",
   "execution_count": null,
   "metadata": {},
   "outputs": [],
   "source": [
    "train = train.join(pd.get_dummies(train['ms_zoning'], drop_first=True, prefix='ms_z'))\n",
    "test = test.join(pd.get_dummies(test['ms_zoning'], drop_first=True, prefix='ms_z'))"
   ]
  },
  {
   "cell_type": "code",
   "execution_count": null,
   "metadata": {},
   "outputs": [],
   "source": [
    "train = train.join(pd.get_dummies(train['lot_shape'], drop_first=True, prefix='lot_sh'))\n",
    "test = test.join(pd.get_dummies(test['lot_shape'], drop_first=True, prefix='lot_sh'))"
   ]
  },
  {
   "cell_type": "code",
   "execution_count": null,
   "metadata": {},
   "outputs": [],
   "source": [
    "train = train.join(pd.get_dummies(train['lot_config'], drop_first=True, prefix='lot_conf'))\n",
    "test = test.join(pd.get_dummies(test['lot_config'], drop_first=True, prefix='lot_conf'))"
   ]
  },
  {
   "cell_type": "code",
   "execution_count": null,
   "metadata": {},
   "outputs": [],
   "source": [
    "train = train.join(pd.get_dummies(train['mas_vnr_type'], drop_first=True, prefix='mas_vnr_typ'))\n",
    "test = test.join(pd.get_dummies(test['mas_vnr_type'], drop_first=True, prefix='mas_vnr_typ'))"
   ]
  },
  {
   "cell_type": "code",
   "execution_count": null,
   "metadata": {},
   "outputs": [],
   "source": [
    "train = train.join(pd.get_dummies(train['exter_qual'], drop_first=True, prefix='ext_qu'))\n",
    "test = test.join(pd.get_dummies(test['exter_qual'], drop_first=True, prefix='ext_qu'))"
   ]
  },
  {
   "cell_type": "code",
   "execution_count": null,
   "metadata": {},
   "outputs": [],
   "source": [
    "train = train.join(pd.get_dummies(train['bsmt_qual'], drop_first=True, prefix='bsm_q'))\n",
    "test = test.join(pd.get_dummies(test['bsmt_qual'], drop_first=True, prefix='bsm_q'))"
   ]
  },
  {
   "cell_type": "code",
   "execution_count": null,
   "metadata": {},
   "outputs": [],
   "source": [
    "train = train.join(pd.get_dummies(train['bsmtfin_type_1'], drop_first=True, prefix='bsm_fin'))\n",
    "test = test.join(pd.get_dummies(test['bsmtfin_type_1'], drop_first=True, prefix='bsm_fin'))"
   ]
  },
  {
   "cell_type": "code",
   "execution_count": null,
   "metadata": {},
   "outputs": [],
   "source": [
    "train = train.join(pd.get_dummies(train['heating_qc'], drop_first=True, prefix='bsm_fin'));\n",
    "test = test.join(pd.get_dummies(test['heating_qc'], drop_first=True, prefix='bsm_fin'));"
   ]
  },
  {
   "cell_type": "code",
   "execution_count": null,
   "metadata": {},
   "outputs": [],
   "source": [
    "train = train.join(pd.get_dummies(train['kitchen_qual'], drop_first=True, prefix='kitchen'))\n",
    "test = test.join(pd.get_dummies(test['kitchen_qual'], drop_first=True, prefix='kitchen'))"
   ]
  },
  {
   "cell_type": "code",
   "execution_count": null,
   "metadata": {},
   "outputs": [],
   "source": [
    "train = train.join(pd.get_dummies(train['garage_type'], drop_first=True, prefix='grg_typ'))\n",
    "test = test.join(pd.get_dummies(test['garage_type'], drop_first=True, prefix='grg_typ'))"
   ]
  },
  {
   "cell_type": "code",
   "execution_count": null,
   "metadata": {},
   "outputs": [],
   "source": [
    "train = train.join(pd.get_dummies(train['sale_type'], drop_first=True, prefix='sale_typ'))\n",
    "test = test.join(pd.get_dummies(test['sale_type'], drop_first=True, prefix='sale_typ'))"
   ]
  },
  {
   "cell_type": "code",
   "execution_count": null,
   "metadata": {},
   "outputs": [],
   "source": [
    "train['pid_suffix'] = train['pid'].map(lambda pid: str(pid)[2:4]).astype(int)\n",
    "test['pid_suffix'] = test['pid'].map(lambda pid: str(pid)[2:4]).astype(int)"
   ]
  },
  {
   "cell_type": "code",
   "execution_count": null,
   "metadata": {},
   "outputs": [],
   "source": [
    "poly = PolynomialFeatures(include_bias=False)\n",
    "poly_feat = ['overall_qual', 'year_built', 'fireplaces', 'totrms_abvgrd',\n",
    "             'mas_vnr_area', 'open_porch_sf', 'wood_deck_sf']\n",
    "\n",
    "poly_train = train[poly_feat]\n",
    "poly_test = test[poly_feat]\n",
    "\n",
    "X_poly_train = poly.fit_transform(poly_train)\n",
    "X_poly_test = poly.fit_transform(poly_test)\n"
   ]
  },
  {
   "cell_type": "code",
   "execution_count": null,
   "metadata": {},
   "outputs": [],
   "source": [
    "train = train.join(pd.DataFrame(X_poly_train, columns=poly.get_feature_names(poly_feat)).drop(columns=poly_feat))\n",
    "test = test.join(pd.DataFrame(X_poly_test, columns=poly.get_feature_names(poly_feat)).drop(columns=poly_feat))\n"
   ]
  },
  {
   "cell_type": "code",
   "execution_count": null,
   "metadata": {},
   "outputs": [],
   "source": [
    "train['garge_area*cars*yr'] = train['garage_area']*train['garage_cars']*train['garage_yr_blt']\n",
    "test['garge_area*cars*yr'] = test['garage_area']*test['garage_cars']*test['garage_yr_blt']"
   ]
  },
  {
   "cell_type": "code",
   "execution_count": null,
   "metadata": {},
   "outputs": [],
   "source": [
    "train['sf*qual'] = train['gr_liv_area']*train['overall_qual'] \n",
    "test['sf*qual'] = test['gr_liv_area']*test['overall_qual'] "
   ]
  },
  {
   "cell_type": "code",
   "execution_count": null,
   "metadata": {},
   "outputs": [],
   "source": [
    "train['bath*totrms'] = train['full_bath']*train['totrms_abvgrd']\n",
    "test['bath*totrms'] = test['full_bath']*test['totrms_abvgrd']"
   ]
  },
  {
   "cell_type": "code",
   "execution_count": null,
   "metadata": {},
   "outputs": [],
   "source": []
  },
  {
   "cell_type": "code",
   "execution_count": null,
   "metadata": {},
   "outputs": [],
   "source": [
    "X_train_ = train._get_numeric_data().drop(columns=['saleprice'])\n",
    "y_train_ = train['saleprice']"
   ]
  },
  {
   "cell_type": "code",
   "execution_count": null,
   "metadata": {},
   "outputs": [],
   "source": [
    "X_test_ = test._get_numeric_data()"
   ]
  },
  {
   "cell_type": "code",
   "execution_count": 116,
   "metadata": {},
   "outputs": [
    {
     "data": {
      "text/plain": [
       "(2051, 122)"
      ]
     },
     "execution_count": 116,
     "metadata": {},
     "output_type": "execute_result"
    }
   ],
   "source": [
    "X_train_ = sm.add_constant(X_train_)\n",
    "model_train = sm.OLS(y_train_, X_train_).fit()"
   ]
  },
  {
   "cell_type": "code",
   "execution_count": null,
   "metadata": {},
   "outputs": [],
   "source": [
    "model_train.summary();\n",
    "p_train_df = pd.DataFrame(model_train.pvalues.loc[model_train.pvalues < 0.05]).reset_index().rename(columns={'index':'col', 0:'pval'})"
   ]
  },
  {
   "cell_type": "code",
   "execution_count": null,
   "metadata": {},
   "outputs": [],
   "source": [
    "p_train_list = list(p_train_df['col'])"
   ]
  },
  {
   "cell_type": "code",
   "execution_count": null,
   "metadata": {},
   "outputs": [],
   "source": [
    "p_train_list.append('id')"
   ]
  },
  {
   "cell_type": "code",
   "execution_count": 117,
   "metadata": {},
   "outputs": [],
   "source": [
    "X_train_ = train[[\n",
    "    'ms_subclass',\n",
    " 'lot_area',\n",
    " 'overall_cond',\n",
    " 'mas_vnr_area',\n",
    " 'bsmtfin_sf_1',\n",
    " 'bsmtfin_sf_2',\n",
    " 'total_bsmt_sf',\n",
    " '1st_flr_sf',\n",
    " '2nd_flr_sf',\n",
    " 'gr_liv_area',\n",
    " 'bsmt_full_bath',\n",
    " 'full_bath',\n",
    " 'kitchen_abvgr',\n",
    " 'fireplaces',\n",
    " 'garage_area',\n",
    " 'enclosed_porch',\n",
    " 'screen_porch',\n",
    " 'pool_area',\n",
    " 'misc_val',\n",
    " 'ms_z_FV',\n",
    " 'ms_z_RH',\n",
    " 'ms_z_RL',\n",
    " 'ms_z_RM',\n",
    " 'lot_sh_IR3',\n",
    " 'lot_sh_Reg',\n",
    " 'lot_conf_CulDSac',\n",
    " 'mas_vnr_typ_None',\n",
    " 'ext_qu_Fa',\n",
    " 'ext_qu_Gd',\n",
    " 'ext_qu_TA',\n",
    " 'bsm_q_Fa',\n",
    " 'bsm_q_Gd',\n",
    " 'bsm_q_None',\n",
    " 'bsm_q_TA',\n",
    " 'bsm_fin_None',\n",
    " 'bsm_fin_TA',\n",
    " 'kitchen_Fa',\n",
    " 'kitchen_Gd',\n",
    " 'kitchen_TA',\n",
    " 'grg_typ_Attchd',\n",
    " 'grg_typ_BuiltIn',\n",
    " 'grg_typ_Detchd',\n",
    " 'sale_typ_Con',\n",
    " 'sale_typ_New',\n",
    " 'sale_typ_Oth',\n",
    " 'sale_typ_WD ',\n",
    " 'pid_suffix',\n",
    " 'overall_qual^2',\n",
    " 'overall_qual fireplaces',\n",
    " 'overall_qual totrms_abvgrd',\n",
    " 'year_built fireplaces',\n",
    " 'year_built mas_vnr_area',\n",
    " 'fireplaces totrms_abvgrd',\n",
    " 'totrms_abvgrd^2',\n",
    " 'totrms_abvgrd open_porch_sf',\n",
    " 'mas_vnr_area^2',\n",
    " 'mas_vnr_area open_porch_sf',\n",
    " 'open_porch_sf^2',\n",
    " 'garge_area*cars*yr',\n",
    " 'sf*qual',\n",
    " 'bath*totrms',\n",
    " 'id']]\n",
    "y_train_ = train['saleprice']"
   ]
  },
  {
   "cell_type": "code",
   "execution_count": 118,
   "metadata": {},
   "outputs": [
    {
     "data": {
      "text/plain": [
       "(2051, 62)"
      ]
     },
     "execution_count": 118,
     "metadata": {},
     "output_type": "execute_result"
    }
   ],
   "source": [
    "X_train_.shape"
   ]
  },
  {
   "cell_type": "code",
   "execution_count": 119,
   "metadata": {},
   "outputs": [
    {
     "data": {
      "text/plain": [
       "(2051,)"
      ]
     },
     "execution_count": 119,
     "metadata": {},
     "output_type": "execute_result"
    }
   ],
   "source": [
    "y_train_.shape"
   ]
  },
  {
   "cell_type": "code",
   "execution_count": 120,
   "metadata": {},
   "outputs": [],
   "source": [
    "X_test_ = test[[\n",
    " 'ms_subclass',\n",
    " 'lot_area',\n",
    " 'overall_cond',\n",
    " 'mas_vnr_area',\n",
    " 'bsmtfin_sf_1',\n",
    " 'bsmtfin_sf_2',\n",
    " 'total_bsmt_sf',\n",
    " '1st_flr_sf',\n",
    " '2nd_flr_sf',\n",
    " 'gr_liv_area',\n",
    " 'bsmt_full_bath',\n",
    " 'full_bath',\n",
    " 'kitchen_abvgr',\n",
    " 'fireplaces',\n",
    " 'garage_area',\n",
    " 'enclosed_porch',\n",
    " 'screen_porch',\n",
    " 'pool_area',\n",
    " 'misc_val',\n",
    " 'ms_z_FV',\n",
    " 'ms_z_RH',\n",
    " 'ms_z_RL',\n",
    " 'ms_z_RM',\n",
    " 'lot_sh_IR3',\n",
    " 'lot_sh_Reg',\n",
    " 'lot_conf_CulDSac',\n",
    " 'mas_vnr_typ_None',\n",
    " 'ext_qu_Fa',\n",
    " 'ext_qu_Gd',\n",
    " 'ext_qu_TA',\n",
    " 'bsm_q_Fa',\n",
    " 'bsm_q_Gd',\n",
    " 'bsm_q_None',\n",
    " 'bsm_q_TA',\n",
    " 'bsm_fin_None',\n",
    " 'bsm_fin_TA',\n",
    " 'kitchen_Fa',\n",
    " 'kitchen_Gd',\n",
    " 'kitchen_TA',\n",
    " 'grg_typ_Attchd',\n",
    " 'grg_typ_BuiltIn',\n",
    " 'grg_typ_Detchd',\n",
    " 'sale_typ_Con',\n",
    " 'sale_typ_New',\n",
    " 'sale_typ_Oth',\n",
    " 'sale_typ_WD ',\n",
    " 'pid_suffix',\n",
    " 'overall_qual^2',\n",
    " 'overall_qual fireplaces',\n",
    " 'overall_qual totrms_abvgrd',\n",
    " 'year_built fireplaces',\n",
    " 'year_built mas_vnr_area',\n",
    " 'fireplaces totrms_abvgrd',\n",
    " 'totrms_abvgrd^2',\n",
    " 'totrms_abvgrd open_porch_sf',\n",
    " 'mas_vnr_area^2',\n",
    " 'mas_vnr_area open_porch_sf',\n",
    " 'open_porch_sf^2',\n",
    " 'garge_area*cars*yr',\n",
    " 'sf*qual',\n",
    " 'bath*totrms',\n",
    " 'id']]"
   ]
  },
  {
   "cell_type": "code",
   "execution_count": 121,
   "metadata": {},
   "outputs": [],
   "source": [
    "X_train, X_test, y_train, y_test = train_test_split(X_train_, y_train_, random_state=42)"
   ]
  },
  {
   "cell_type": "code",
   "execution_count": 122,
   "metadata": {},
   "outputs": [],
   "source": [
    "ss = StandardScaler()\n",
    "X_train_sc = ss.fit_transform(X_train)\n",
    "X_test_sc = ss.transform(X_test)"
   ]
  },
  {
   "cell_type": "code",
   "execution_count": 123,
   "metadata": {},
   "outputs": [],
   "source": [
    "lr = LinearRegression()"
   ]
  },
  {
   "cell_type": "code",
   "execution_count": 124,
   "metadata": {},
   "outputs": [
    {
     "data": {
      "text/plain": [
       "0.8207079310453288"
      ]
     },
     "execution_count": 124,
     "metadata": {},
     "output_type": "execute_result"
    }
   ],
   "source": [
    "cross_val_score(lr, X_train_sc, y_train, cv=5).mean()"
   ]
  },
  {
   "cell_type": "code",
   "execution_count": 125,
   "metadata": {},
   "outputs": [
    {
     "data": {
      "text/plain": [
       "0.8896528860579465"
      ]
     },
     "execution_count": 125,
     "metadata": {},
     "output_type": "execute_result"
    }
   ],
   "source": [
    "lr.fit(X_train_sc, y_train)\n",
    "lr.score(X_train_sc, y_train)"
   ]
  },
  {
   "cell_type": "code",
   "execution_count": 126,
   "metadata": {},
   "outputs": [
    {
     "data": {
      "text/plain": [
       "0.9036077599705857"
      ]
     },
     "execution_count": 126,
     "metadata": {},
     "output_type": "execute_result"
    }
   ],
   "source": [
    "lr.score(X_test_sc, y_test)"
   ]
  },
  {
   "cell_type": "code",
   "execution_count": null,
   "metadata": {},
   "outputs": [],
   "source": []
  },
  {
   "cell_type": "code",
   "execution_count": 127,
   "metadata": {},
   "outputs": [
    {
     "data": {
      "text/plain": [
       "[]"
      ]
     },
     "execution_count": 127,
     "metadata": {},
     "output_type": "execute_result"
    }
   ],
   "source": [
    "[c for c in X_train_.columns if c not in X_test_.columns]"
   ]
  },
  {
   "cell_type": "code",
   "execution_count": 128,
   "metadata": {},
   "outputs": [],
   "source": [
    "X_test_final = ss.transform(X_test_)"
   ]
  },
  {
   "cell_type": "code",
   "execution_count": 129,
   "metadata": {},
   "outputs": [],
   "source": [
    "predictions = lr.predict(X_test_final)"
   ]
  },
  {
   "cell_type": "code",
   "execution_count": 130,
   "metadata": {},
   "outputs": [],
   "source": [
    "X_test_;"
   ]
  },
  {
   "cell_type": "code",
   "execution_count": 131,
   "metadata": {},
   "outputs": [],
   "source": [
    "sec_subm = pd.DataFrame({'Id': X_test_['id'], \n",
    "                                   'SalePrice': predictions})"
   ]
  },
  {
   "cell_type": "code",
   "execution_count": 132,
   "metadata": {},
   "outputs": [
    {
     "data": {
      "text/html": [
       "<div>\n",
       "<style scoped>\n",
       "    .dataframe tbody tr th:only-of-type {\n",
       "        vertical-align: middle;\n",
       "    }\n",
       "\n",
       "    .dataframe tbody tr th {\n",
       "        vertical-align: top;\n",
       "    }\n",
       "\n",
       "    .dataframe thead th {\n",
       "        text-align: right;\n",
       "    }\n",
       "</style>\n",
       "<table border=\"1\" class=\"dataframe\">\n",
       "  <thead>\n",
       "    <tr style=\"text-align: right;\">\n",
       "      <th></th>\n",
       "      <th>Id</th>\n",
       "      <th>SalePrice</th>\n",
       "    </tr>\n",
       "  </thead>\n",
       "  <tbody>\n",
       "    <tr>\n",
       "      <td>0</td>\n",
       "      <td>2658</td>\n",
       "      <td>134395.419892</td>\n",
       "    </tr>\n",
       "    <tr>\n",
       "      <td>1</td>\n",
       "      <td>2718</td>\n",
       "      <td>154251.833671</td>\n",
       "    </tr>\n",
       "    <tr>\n",
       "      <td>2</td>\n",
       "      <td>2414</td>\n",
       "      <td>223532.476201</td>\n",
       "    </tr>\n",
       "    <tr>\n",
       "      <td>3</td>\n",
       "      <td>1989</td>\n",
       "      <td>110723.923080</td>\n",
       "    </tr>\n",
       "    <tr>\n",
       "      <td>4</td>\n",
       "      <td>625</td>\n",
       "      <td>202462.350083</td>\n",
       "    </tr>\n",
       "    <tr>\n",
       "      <td>...</td>\n",
       "      <td>...</td>\n",
       "      <td>...</td>\n",
       "    </tr>\n",
       "    <tr>\n",
       "      <td>874</td>\n",
       "      <td>1662</td>\n",
       "      <td>197981.358549</td>\n",
       "    </tr>\n",
       "    <tr>\n",
       "      <td>875</td>\n",
       "      <td>1234</td>\n",
       "      <td>188804.895415</td>\n",
       "    </tr>\n",
       "    <tr>\n",
       "      <td>876</td>\n",
       "      <td>1373</td>\n",
       "      <td>135224.497909</td>\n",
       "    </tr>\n",
       "    <tr>\n",
       "      <td>877</td>\n",
       "      <td>1672</td>\n",
       "      <td>108030.999582</td>\n",
       "    </tr>\n",
       "    <tr>\n",
       "      <td>878</td>\n",
       "      <td>1939</td>\n",
       "      <td>131430.800231</td>\n",
       "    </tr>\n",
       "  </tbody>\n",
       "</table>\n",
       "<p>879 rows × 2 columns</p>\n",
       "</div>"
      ],
      "text/plain": [
       "       Id      SalePrice\n",
       "0    2658  134395.419892\n",
       "1    2718  154251.833671\n",
       "2    2414  223532.476201\n",
       "3    1989  110723.923080\n",
       "4     625  202462.350083\n",
       "..    ...            ...\n",
       "874  1662  197981.358549\n",
       "875  1234  188804.895415\n",
       "876  1373  135224.497909\n",
       "877  1672  108030.999582\n",
       "878  1939  131430.800231\n",
       "\n",
       "[879 rows x 2 columns]"
      ]
     },
     "execution_count": 132,
     "metadata": {},
     "output_type": "execute_result"
    }
   ],
   "source": [
    "sec_subm"
   ]
  },
  {
   "cell_type": "code",
   "execution_count": 133,
   "metadata": {},
   "outputs": [],
   "source": [
    "sec_subm.to_csv(path_or_buf='datasets/sec_subm.csv', index=False)"
   ]
  },
  {
   "cell_type": "code",
   "execution_count": null,
   "metadata": {},
   "outputs": [],
   "source": []
  },
  {
   "cell_type": "code",
   "execution_count": null,
   "metadata": {},
   "outputs": [],
   "source": []
  },
  {
   "cell_type": "code",
   "execution_count": null,
   "metadata": {},
   "outputs": [],
   "source": []
  },
  {
   "cell_type": "code",
   "execution_count": null,
   "metadata": {},
   "outputs": [],
   "source": []
  },
  {
   "cell_type": "code",
   "execution_count": null,
   "metadata": {},
   "outputs": [],
   "source": []
  },
  {
   "cell_type": "code",
   "execution_count": null,
   "metadata": {},
   "outputs": [],
   "source": []
  },
  {
   "cell_type": "code",
   "execution_count": null,
   "metadata": {},
   "outputs": [],
   "source": []
  },
  {
   "cell_type": "code",
   "execution_count": null,
   "metadata": {},
   "outputs": [],
   "source": []
  },
  {
   "cell_type": "code",
   "execution_count": null,
   "metadata": {},
   "outputs": [],
   "source": []
  },
  {
   "cell_type": "code",
   "execution_count": null,
   "metadata": {},
   "outputs": [],
   "source": []
  },
  {
   "cell_type": "code",
   "execution_count": null,
   "metadata": {},
   "outputs": [],
   "source": []
  },
  {
   "cell_type": "code",
   "execution_count": null,
   "metadata": {},
   "outputs": [],
   "source": []
  },
  {
   "cell_type": "code",
   "execution_count": null,
   "metadata": {},
   "outputs": [],
   "source": []
  },
  {
   "cell_type": "code",
   "execution_count": null,
   "metadata": {},
   "outputs": [],
   "source": []
  },
  {
   "cell_type": "code",
   "execution_count": null,
   "metadata": {},
   "outputs": [],
   "source": []
  },
  {
   "cell_type": "code",
   "execution_count": null,
   "metadata": {},
   "outputs": [],
   "source": []
  },
  {
   "cell_type": "code",
   "execution_count": null,
   "metadata": {},
   "outputs": [],
   "source": []
  },
  {
   "cell_type": "code",
   "execution_count": null,
   "metadata": {},
   "outputs": [],
   "source": []
  },
  {
   "cell_type": "code",
   "execution_count": null,
   "metadata": {},
   "outputs": [],
   "source": []
  },
  {
   "cell_type": "code",
   "execution_count": null,
   "metadata": {},
   "outputs": [],
   "source": []
  },
  {
   "cell_type": "code",
   "execution_count": null,
   "metadata": {},
   "outputs": [],
   "source": []
  },
  {
   "cell_type": "code",
   "execution_count": null,
   "metadata": {},
   "outputs": [],
   "source": []
  },
  {
   "cell_type": "code",
   "execution_count": null,
   "metadata": {},
   "outputs": [],
   "source": []
  },
  {
   "cell_type": "code",
   "execution_count": null,
   "metadata": {},
   "outputs": [],
   "source": []
  },
  {
   "cell_type": "code",
   "execution_count": null,
   "metadata": {},
   "outputs": [],
   "source": [
    "for col in X.columns: \n",
    "    if col not in X_test1.columns:\n",
    "        print(col)"
   ]
  },
  {
   "cell_type": "code",
   "execution_count": null,
   "metadata": {},
   "outputs": [],
   "source": [
    "X_test1_final = ss.transform(X_test)"
   ]
  },
  {
   "cell_type": "code",
   "execution_count": null,
   "metadata": {},
   "outputs": [],
   "source": [
    "predictions = lr.predict(X_test1_final)"
   ]
  },
  {
   "cell_type": "code",
   "execution_count": null,
   "metadata": {},
   "outputs": [],
   "source": [
    "first_subm = pd.DataFrame({'Id': X_test1['Id'], \n",
    "                                   'SalePrice': predictions})"
   ]
  },
  {
   "cell_type": "code",
   "execution_count": null,
   "metadata": {},
   "outputs": [],
   "source": [
    "first_subm"
   ]
  },
  {
   "cell_type": "code",
   "execution_count": null,
   "metadata": {},
   "outputs": [],
   "source": [
    "first_subm.to_csv(path_or_buf='datasets/first_subm.csv', index=False)\n",
    "#index=False Unnamed doesn't show!! "
   ]
  },
  {
   "cell_type": "code",
   "execution_count": null,
   "metadata": {},
   "outputs": [],
   "source": []
  }
 ],
 "metadata": {
  "kernelspec": {
   "display_name": "Python 3",
   "language": "python",
   "name": "python3"
  },
  "language_info": {
   "codemirror_mode": {
    "name": "ipython",
    "version": 3
   },
   "file_extension": ".py",
   "mimetype": "text/x-python",
   "name": "python",
   "nbconvert_exporter": "python",
   "pygments_lexer": "ipython3",
   "version": "3.7.3"
  }
 },
 "nbformat": 4,
 "nbformat_minor": 2
}
