{
 "cells": [
  {
   "cell_type": "code",
   "execution_count": 57,
   "metadata": {},
   "outputs": [],
   "source": [
    "import pandas as pd\n",
    "import numpy as np"
   ]
  },
  {
   "cell_type": "code",
   "execution_count": 58,
   "metadata": {},
   "outputs": [
    {
     "data": {
      "text/plain": [
       "(879, 80)"
      ]
     },
     "execution_count": 58,
     "metadata": {},
     "output_type": "execute_result"
    }
   ],
   "source": [
    "df = pd.read_csv('datasets/test.csv')\n",
    "df.columns = df.columns.str.lower().str.replace(' ', '_')\n",
    "df.shape"
   ]
  },
  {
   "cell_type": "code",
   "execution_count": 59,
   "metadata": {},
   "outputs": [
    {
     "data": {
      "text/html": [
       "<div>\n",
       "<style scoped>\n",
       "    .dataframe tbody tr th:only-of-type {\n",
       "        vertical-align: middle;\n",
       "    }\n",
       "\n",
       "    .dataframe tbody tr th {\n",
       "        vertical-align: top;\n",
       "    }\n",
       "\n",
       "    .dataframe thead th {\n",
       "        text-align: right;\n",
       "    }\n",
       "</style>\n",
       "<table border=\"1\" class=\"dataframe\">\n",
       "  <thead>\n",
       "    <tr style=\"text-align: right;\">\n",
       "      <th></th>\n",
       "      <th>null_sum</th>\n",
       "      <th>dtype</th>\n",
       "    </tr>\n",
       "  </thead>\n",
       "  <tbody>\n",
       "    <tr>\n",
       "      <td>lot_frontage</td>\n",
       "      <td>160</td>\n",
       "      <td>float64</td>\n",
       "    </tr>\n",
       "    <tr>\n",
       "      <td>alley</td>\n",
       "      <td>821</td>\n",
       "      <td>object</td>\n",
       "    </tr>\n",
       "    <tr>\n",
       "      <td>mas_vnr_type</td>\n",
       "      <td>1</td>\n",
       "      <td>object</td>\n",
       "    </tr>\n",
       "    <tr>\n",
       "      <td>mas_vnr_area</td>\n",
       "      <td>1</td>\n",
       "      <td>float64</td>\n",
       "    </tr>\n",
       "    <tr>\n",
       "      <td>bsmt_qual</td>\n",
       "      <td>25</td>\n",
       "      <td>object</td>\n",
       "    </tr>\n",
       "    <tr>\n",
       "      <td>bsmt_cond</td>\n",
       "      <td>25</td>\n",
       "      <td>object</td>\n",
       "    </tr>\n",
       "    <tr>\n",
       "      <td>bsmt_exposure</td>\n",
       "      <td>25</td>\n",
       "      <td>object</td>\n",
       "    </tr>\n",
       "    <tr>\n",
       "      <td>bsmtfin_type_1</td>\n",
       "      <td>25</td>\n",
       "      <td>object</td>\n",
       "    </tr>\n",
       "    <tr>\n",
       "      <td>bsmtfin_type_2</td>\n",
       "      <td>25</td>\n",
       "      <td>object</td>\n",
       "    </tr>\n",
       "    <tr>\n",
       "      <td>electrical</td>\n",
       "      <td>1</td>\n",
       "      <td>object</td>\n",
       "    </tr>\n",
       "    <tr>\n",
       "      <td>fireplace_qu</td>\n",
       "      <td>422</td>\n",
       "      <td>object</td>\n",
       "    </tr>\n",
       "    <tr>\n",
       "      <td>garage_type</td>\n",
       "      <td>44</td>\n",
       "      <td>object</td>\n",
       "    </tr>\n",
       "    <tr>\n",
       "      <td>garage_yr_blt</td>\n",
       "      <td>45</td>\n",
       "      <td>float64</td>\n",
       "    </tr>\n",
       "    <tr>\n",
       "      <td>garage_finish</td>\n",
       "      <td>45</td>\n",
       "      <td>object</td>\n",
       "    </tr>\n",
       "    <tr>\n",
       "      <td>garage_qual</td>\n",
       "      <td>45</td>\n",
       "      <td>object</td>\n",
       "    </tr>\n",
       "    <tr>\n",
       "      <td>garage_cond</td>\n",
       "      <td>45</td>\n",
       "      <td>object</td>\n",
       "    </tr>\n",
       "    <tr>\n",
       "      <td>pool_qc</td>\n",
       "      <td>875</td>\n",
       "      <td>object</td>\n",
       "    </tr>\n",
       "    <tr>\n",
       "      <td>fence</td>\n",
       "      <td>707</td>\n",
       "      <td>object</td>\n",
       "    </tr>\n",
       "    <tr>\n",
       "      <td>misc_feature</td>\n",
       "      <td>838</td>\n",
       "      <td>object</td>\n",
       "    </tr>\n",
       "  </tbody>\n",
       "</table>\n",
       "</div>"
      ],
      "text/plain": [
       "                null_sum    dtype\n",
       "lot_frontage         160  float64\n",
       "alley                821   object\n",
       "mas_vnr_type           1   object\n",
       "mas_vnr_area           1  float64\n",
       "bsmt_qual             25   object\n",
       "bsmt_cond             25   object\n",
       "bsmt_exposure         25   object\n",
       "bsmtfin_type_1        25   object\n",
       "bsmtfin_type_2        25   object\n",
       "electrical             1   object\n",
       "fireplace_qu         422   object\n",
       "garage_type           44   object\n",
       "garage_yr_blt         45  float64\n",
       "garage_finish         45   object\n",
       "garage_qual           45   object\n",
       "garage_cond           45   object\n",
       "pool_qc              875   object\n",
       "fence                707   object\n",
       "misc_feature         838   object"
      ]
     },
     "execution_count": 59,
     "metadata": {},
     "output_type": "execute_result"
    }
   ],
   "source": [
    "null_df = pd.concat([df.isnull().sum(), df.dtypes], axis=1).rename(columns={0:'null_sum', 1:'dtype'})\n",
    "null_df.loc[null_df['null_sum']!=0]"
   ]
  },
  {
   "cell_type": "markdown",
   "metadata": {},
   "source": [
    "."
   ]
  },
  {
   "cell_type": "code",
   "execution_count": 60,
   "metadata": {},
   "outputs": [],
   "source": [
    "def num_replace(col_name):\n",
    "    col = col_name\n",
    "    first = df[col_name].isnull().sum()\n",
    "    \n",
    "    col_mean = df[col_name].mean()\n",
    "    col_std = df[col_name].std()\n",
    "    col_null_count = df[col_name].isnull().sum()\n",
    "    col_null_random_list = np.random.randint(col_mean - col_std, col_mean + col_std, size=col_null_count)\n",
    "\n",
    "    df[col_name][np.isnan(df[col_name])] = col_null_random_list\n",
    "    df[col_name] = df[col_name].astype(int)\n",
    "\n",
    "    final = df[col_name].isnull().sum()\n",
    "    \n",
    "    return print(f'\"{col}\" null count\\nbefore: {first}, after: {final}')"
   ]
  },
  {
   "cell_type": "markdown",
   "metadata": {},
   "source": [
    "."
   ]
  },
  {
   "cell_type": "code",
   "execution_count": 61,
   "metadata": {},
   "outputs": [],
   "source": [
    "#EDA\n",
    "df.loc[df['garage_yr_blt']>=2009.0]['garage_yr_blt'];"
   ]
  },
  {
   "cell_type": "markdown",
   "metadata": {},
   "source": [
    "."
   ]
  },
  {
   "cell_type": "code",
   "execution_count": 62,
   "metadata": {},
   "outputs": [
    {
     "name": "stdout",
     "output_type": "stream",
     "text": [
      "\"lot_frontage\" null count\n",
      "before: 160, after: 0\n"
     ]
    },
    {
     "name": "stderr",
     "output_type": "stream",
     "text": [
      "/Users/alicjaligas/anaconda3/lib/python3.7/site-packages/ipykernel_launcher.py:10: SettingWithCopyWarning: \n",
      "A value is trying to be set on a copy of a slice from a DataFrame\n",
      "\n",
      "See the caveats in the documentation: http://pandas.pydata.org/pandas-docs/stable/user_guide/indexing.html#returning-a-view-versus-a-copy\n",
      "  # Remove the CWD from sys.path while we load stuff.\n"
     ]
    }
   ],
   "source": [
    "num_replace('lot_frontage')"
   ]
  },
  {
   "cell_type": "code",
   "execution_count": 63,
   "metadata": {},
   "outputs": [],
   "source": [
    "df['alley'] = df['alley'].fillna(value='None')\n",
    "df['mas_vnr_type'] = df['mas_vnr_type'].fillna(value='None')\n",
    "df['mas_vnr_area'] = df['mas_vnr_area'].fillna(value=0)\n",
    "df['bsmt_qual'] = df['bsmt_qual'].fillna(value='None')\n",
    "df['bsmt_cond'] = df['bsmt_cond'].fillna(value='None')\n",
    "df['bsmt_exposure'] = df['bsmt_exposure'].fillna(value='None')\n",
    "df['bsmtfin_type_1'] = df['bsmtfin_type_1'].fillna(value='None')\n",
    "df['bsmtfin_type_2'] = df['bsmtfin_type_2'].fillna(value='None')\n",
    "df.electrical.fillna(df.electrical.mode()[0], inplace=True)\n",
    "df['fireplace_qu'] = df['fireplace_qu'].fillna(value='None')\n",
    "df['garage_type'] = df['garage_type'].fillna(value='None')\n",
    "df.garage_yr_blt.fillna(df.garage_yr_blt.mode()[0], inplace=True)\n",
    "df['garage_finish'] = df['garage_finish'].fillna(value='None')\n",
    "df['garage_qual'] = df['garage_qual'].fillna(value='None')\n",
    "df['garage_cond'] = df['garage_cond'].fillna(value='None')\n",
    "df['pool_qc'] = df['pool_qc'].fillna(value='None')\n",
    "df['fence'] = df['fence'].fillna(value='None')\n",
    "df['misc_feature'] = df['misc_feature'].fillna(value='None')"
   ]
  },
  {
   "cell_type": "code",
   "execution_count": null,
   "metadata": {},
   "outputs": [],
   "source": []
  },
  {
   "cell_type": "code",
   "execution_count": 65,
   "metadata": {},
   "outputs": [
    {
     "data": {
      "text/html": [
       "<div>\n",
       "<style scoped>\n",
       "    .dataframe tbody tr th:only-of-type {\n",
       "        vertical-align: middle;\n",
       "    }\n",
       "\n",
       "    .dataframe tbody tr th {\n",
       "        vertical-align: top;\n",
       "    }\n",
       "\n",
       "    .dataframe thead th {\n",
       "        text-align: right;\n",
       "    }\n",
       "</style>\n",
       "<table border=\"1\" class=\"dataframe\">\n",
       "  <thead>\n",
       "    <tr style=\"text-align: right;\">\n",
       "      <th></th>\n",
       "      <th>null_sum</th>\n",
       "      <th>dtype</th>\n",
       "    </tr>\n",
       "  </thead>\n",
       "  <tbody>\n",
       "  </tbody>\n",
       "</table>\n",
       "</div>"
      ],
      "text/plain": [
       "Empty DataFrame\n",
       "Columns: [null_sum, dtype]\n",
       "Index: []"
      ]
     },
     "execution_count": 65,
     "metadata": {},
     "output_type": "execute_result"
    }
   ],
   "source": [
    "null_df = pd.concat([df.isnull().sum(), df.dtypes], axis=1).rename(columns={0:'null_sum', 1:'dtype'})\n",
    "null_df.loc[null_df['null_sum']!=0]"
   ]
  },
  {
   "cell_type": "code",
   "execution_count": 66,
   "metadata": {},
   "outputs": [],
   "source": [
    "test_clean2 = df.to_csv('./datasets/test_clean2.csv')"
   ]
  },
  {
   "cell_type": "code",
   "execution_count": null,
   "metadata": {},
   "outputs": [],
   "source": []
  }
 ],
 "metadata": {
  "kernelspec": {
   "display_name": "Python 3",
   "language": "python",
   "name": "python3"
  },
  "language_info": {
   "codemirror_mode": {
    "name": "ipython",
    "version": 3
   },
   "file_extension": ".py",
   "mimetype": "text/x-python",
   "name": "python",
   "nbconvert_exporter": "python",
   "pygments_lexer": "ipython3",
   "version": "3.7.3"
  }
 },
 "nbformat": 4,
 "nbformat_minor": 2
}
