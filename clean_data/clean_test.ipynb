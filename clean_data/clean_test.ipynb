{
 "cells": [
  {
   "cell_type": "code",
   "execution_count": 9,
   "metadata": {},
   "outputs": [],
   "source": [
    "import pandas as pd\n",
    "import numpy as np\n",
    "import seaborn as sns\n"
   ]
  },
  {
   "cell_type": "code",
   "execution_count": 10,
   "metadata": {},
   "outputs": [],
   "source": [
    "df = pd.read_csv('datasets/test.csv')"
   ]
  },
  {
   "cell_type": "code",
   "execution_count": 11,
   "metadata": {},
   "outputs": [],
   "source": [
    "#clean data rows 0-30\n",
    "df['Lot Frontage'] = df['Lot Frontage'].replace(np.nan, 0);\n",
    "df['Alley'] = df['Alley'].fillna(value='None')\n",
    "df['Mas Vnr Type'] = df['Mas Vnr Type'].fillna(value='None')\n",
    "df['Mas Vnr Area'] = df['Mas Vnr Area'].fillna(value='None')"
   ]
  },
  {
   "cell_type": "code",
   "execution_count": 12,
   "metadata": {},
   "outputs": [],
   "source": [
    "#clean data rows 30-60\n",
    "df['Bsmt Qual'] = df['Bsmt Qual'].fillna(value='None')\n",
    "df['Bsmt Cond'] = df['Bsmt Cond'].fillna(value='None')\n",
    "df['Bsmt Exposure'] = df['Bsmt Exposure'].fillna(value='None')\n",
    "df['BsmtFin Type 1'] = df['BsmtFin Type 1'].fillna(value='None')\n",
    "df['BsmtFin SF 1'] = df['BsmtFin SF 1'].fillna(value=0)\n",
    "df['BsmtFin Type 2'] = df['BsmtFin Type 2'].fillna(value='None')\n",
    "df['BsmtFin SF 2'] = df['BsmtFin SF 2'].fillna(value=0)\n",
    "df['Bsmt Unf SF'] = df['Bsmt Unf SF'].fillna(value=0)\n",
    "df['Total Bsmt SF'] = df['Total Bsmt SF'].fillna(value=0)\n",
    "df['Bsmt Full Bath'] = df['Bsmt Full Bath'].fillna(value=0)\n",
    "df['Bsmt Half Bath'] = df['Bsmt Half Bath'].fillna(value=0)\n",
    "df['Fireplace Qu'] = df['Fireplace Qu'].fillna(value='None')\n",
    "df['Garage Type'] = df['Garage Type'].fillna(value='None')"
   ]
  },
  {
   "cell_type": "code",
   "execution_count": 13,
   "metadata": {},
   "outputs": [],
   "source": [
    "#clean rows 60:\n",
    "df['Garage Yr Blt'] = df['Garage Yr Blt'].fillna(value=0)\n",
    "df['Garage Finish'] = df['Garage Finish'].fillna(value='None')\n",
    "df['Garage Cars'] = df['Garage Cars'].fillna(value=0)\n",
    "df['Garage Area'] = df['Garage Area'].fillna(value=0)\n",
    "df['Garage Qual'] = df['Garage Qual'].fillna(value='None')\n",
    "df['Garage Cond'] = df['Garage Cond'].fillna(value='None')\n",
    "df['Pool QC'] = df['Pool QC'].fillna(value='None')\n",
    "df['Fence'] = df['Fence'].fillna(value='None')\n",
    "df['Misc Feature'] = df['Misc Feature'].fillna(value='None')"
   ]
  },
  {
   "cell_type": "code",
   "execution_count": 19,
   "metadata": {},
   "outputs": [
    {
     "data": {
      "text/plain": [
       "SBrkr    814\n",
       "FuseA     48\n",
       "FuseF     15\n",
       "FuseP      1\n",
       "Name: Electrical, dtype: int64"
      ]
     },
     "execution_count": 19,
     "metadata": {},
     "output_type": "execute_result"
    }
   ],
   "source": [
    "df['Electrical'].value_counts()"
   ]
  },
  {
   "cell_type": "code",
   "execution_count": 21,
   "metadata": {},
   "outputs": [],
   "source": [
    "df['Electrical'] = df['Electrical'].fillna(value='SBrkr')"
   ]
  },
  {
   "cell_type": "code",
   "execution_count": 23,
   "metadata": {},
   "outputs": [
    {
     "data": {
      "text/plain": [
       "0"
      ]
     },
     "execution_count": 23,
     "metadata": {},
     "output_type": "execute_result"
    }
   ],
   "source": [
    "df.isnull().sum().sum()"
   ]
  },
  {
   "cell_type": "code",
   "execution_count": 24,
   "metadata": {},
   "outputs": [],
   "source": [
    "test_clean = df.to_csv('./datasets/test_clean.csv')"
   ]
  }
 ],
 "metadata": {
  "kernelspec": {
   "display_name": "Python 3",
   "language": "python",
   "name": "python3"
  },
  "language_info": {
   "codemirror_mode": {
    "name": "ipython",
    "version": 3
   },
   "file_extension": ".py",
   "mimetype": "text/x-python",
   "name": "python",
   "nbconvert_exporter": "python",
   "pygments_lexer": "ipython3",
   "version": "3.7.3"
  }
 },
 "nbformat": 4,
 "nbformat_minor": 2
}
